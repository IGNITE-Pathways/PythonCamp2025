{
 "cells": [
  {
   "cell_type": "markdown",
   "id": "f216b0dd",
   "metadata": {},
   "source": [
    "# 🧠 Session 1: Python Basics & Game World Setup\n",
    "Welcome to Day 1 of Python Camp! This notebook is designed so you can follow along even if you're learning on your own. By the end of this session, you'll understand Python variables, data types, user input, and how to create a basic Pygame window."
   ]
  },
  {
   "cell_type": "markdown",
   "id": "778a4c8f",
   "metadata": {},
   "source": [
    "## 🎯 Learning Objectives\n",
    "- Understand variables and different data types in Python\n",
    "- Collect and use user input\n",
    "- Work with screen coordinates\n",
    "- Create a Pygame window and fill the screen"
   ]
  },
  {
   "cell_type": "markdown",
   "id": "26f9c07b",
   "metadata": {},
   "source": [
    "## 📘 1. Variables and Data Types\n",
    "In Python, variables are used to store data. Each piece of data has a **type**:\n",
    "- `str` for strings\n",
    "- `int` for integers\n",
    "- `float` for decimal numbers\n",
    "- `bool` for True/False values"
   ]
  },
  {
   "cell_type": "code",
   "execution_count": null,
   "id": "d560730a",
   "metadata": {},
   "outputs": [],
   "source": [
    "# Example:\n",
    "name = \"Batman\"\n",
    "age = 35\n",
    "height = 6.2\n",
    "is_hero = True\n",
    "print(name, age, height, is_hero)"
   ]
  },
  {
   "cell_type": "markdown",
   "id": "a3751f66",
   "metadata": {},
   "source": [
    "### ✅ Practice:\n",
    "1. Create variables for your name, favorite number, and whether you like games.\n",
    "2. Print them all on one line using an f-string."
   ]
  },
  {
   "cell_type": "code",
   "execution_count": null,
   "id": "a500aa76",
   "metadata": {},
   "outputs": [],
   "source": [
    "# Your code here:\n",
    "name = \"\"\n",
    "favorite_number = 0\n",
    "likes_games = False\n",
    "# TODO: print using f-string"
   ]
  },
  {
   "cell_type": "markdown",
   "id": "cb1c1cc7",
   "metadata": {},
   "source": [
    "## 📘 2. User Input\n",
    "Python can ask the user questions using `input()`.\n",
    "You can also **convert** data types, such as turning input into an integer."
   ]
  },
  {
   "cell_type": "code",
   "execution_count": null,
   "id": "4e12a145",
   "metadata": {},
   "outputs": [],
   "source": [
    "name = input(\"What is your name? \")\n",
    "age = int(input(\"How old are you? \"))\n",
    "print(f\"Hi {name}, you are {age} years old!\")"
   ]
  },
  {
   "cell_type": "markdown",
   "id": "fcb12993",
   "metadata": {},
   "source": [
    "### ✅ Practice:\n",
    "- Ask the user for their favorite color and number.\n",
    "- Print them out with a message."
   ]
  },
  {
   "cell_type": "code",
   "execution_count": null,
   "id": "846df281",
   "metadata": {},
   "outputs": [],
   "source": [
    "# Your code here:\n",
    "# TODO: input + print favorite color and number"
   ]
  },
  {
   "cell_type": "markdown",
   "id": "95d8e02e",
   "metadata": {},
   "source": [
    "## 📘 3. Coordinates & Screen Systems\n",
    "Games use a 2D coordinate system. The top-left corner is (0, 0), and coordinates increase going right (x) and down (y).\n",
    "\n",
    "Example:\n",
    "```\n",
    "(0,0)           → x increases →\n",
    "   +-----------------------+\n",
    "   |                       |\n",
    "   |                       |\n",
    "   ↓ y increases           |\n",
    "```"
   ]
  },
  {
   "cell_type": "code",
   "execution_count": null,
   "id": "53dd7ec9",
   "metadata": {},
   "outputs": [],
   "source": [
    "# Example:\n",
    "x = 100\n",
    "y = 150\n",
    "print(f\"Batman starts at position ({x}, {y})\")"
   ]
  },
  {
   "cell_type": "markdown",
   "id": "37702114",
   "metadata": {},
   "source": [
    "## 🎮 4. Creating a Game Window with Pygame\n",
    "Let's now use what we've learned to build the first step of our game — creating the screen!"
   ]
  },
  {
   "cell_type": "code",
   "execution_count": null,
   "id": "9852f1b0",
   "metadata": {},
   "outputs": [],
   "source": [
    "import pygame\n",
    "pygame.init()\n",
    "\n",
    "SCREEN_WIDTH = 800\n",
    "SCREEN_HEIGHT = 600\n",
    "screen = pygame.display.set_mode((SCREEN_WIDTH, SCREEN_HEIGHT))\n",
    "pygame.display.set_caption(\"Batman Collector Game\")\n",
    "screen.fill((0, 0, 0))\n",
    "\n",
    "pygame.display.flip()\n",
    "pygame.time.wait(2000)\n",
    "pygame.quit()"
   ]
  },
  {
   "cell_type": "markdown",
   "id": "cc1df070",
   "metadata": {},
   "source": [
    "### ✅ Practice Challenge:\n",
    "Try changing:\n",
    "- The window title\n",
    "- The background color\n",
    "- The size of the screen\n",
    "\n",
    "Explore how each change affects what you see.\n",
    "\n",
    "You’ve now laid the foundation for building the Batman Collector Game! 🎉"
   ]
  }
 ],
 "metadata": {},
 "nbformat": 4,
 "nbformat_minor": 5
}
