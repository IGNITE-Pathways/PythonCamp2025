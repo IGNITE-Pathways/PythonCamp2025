{
 "cells": [
  {
   "cell_type": "markdown",
   "id": "8089c19a",
   "metadata": {},
   "source": [
    "# 🧠 Session 1: Python Basics & Game World Setup\n",
    "\n",
    "Welcome to Day 1 of the Batman Python Camp! 🦇🎮\n",
    "\n",
    "Today we'll start with the fundamentals of Python programming and begin building the foundation of your **Batman Collector** capstone game.\n",
    "\n",
    "By the end of this notebook, you will:\n",
    "- Understand how to declare and use variables\n",
    "- Work with user input and basic data types\n",
    "- Explore how coordinate systems are used in 2D games\n",
    "- Set up the screen for your Pygame-based game\n",
    "\n",
    "---"
   ]
  },
  {
   "cell_type": "markdown",
   "id": "46f229b9",
   "metadata": {},
   "source": [
    "## 🧩 Part 1: Variables and Data Types\n",
    "In Python, **variables** are like labeled boxes that store data. Each variable has a name and stores a value.\n",
    "\n",
    "Python has several basic **data types**:\n",
    "- `int` → whole numbers (e.g., `10`, `-3`)\n",
    "- `float` → decimal numbers (e.g., `3.14`)\n",
    "- `str` → strings, or text (e.g., `'Batman'`)\n",
    "- `bool` → boolean values (`True`, `False`)\n"
   ]
  },
  {
   "cell_type": "code",
   "execution_count": null,
   "id": "9f0a589b",
   "metadata": {},
   "outputs": [],
   "source": [
    "# Examples:\n",
    "hero_name = \"Batman\"        # str\n",
    "coins_collected = 42         # int\n",
    "car_speed = 5.5              # float\n",
    "is_invincible = True         # bool\n",
    "\n",
    "print(f\"Name: {hero_name}\")\n",
    "print(f\"Coins: {coins_collected}\")\n",
    "print(f\"Speed: {car_speed}\")\n",
    "print(f\"Invincible: {is_invincible}\")"
   ]
  },
  {
   "cell_type": "markdown",
   "id": "d75ec31f",
   "metadata": {},
   "source": [
    "**📝 Practice:**\n",
    "Create three variables:\n",
    "1. Your hero's name\n",
    "2. Their level (integer)\n",
    "3. Whether they have a power-up (True/False)\n",
    "Print them using an f-string.\n"
   ]
  },
  {
   "cell_type": "code",
   "execution_count": null,
   "id": "17d51dbf",
   "metadata": {},
   "outputs": [],
   "source": [
    "# Your turn"
   ]
  },
  {
   "cell_type": "markdown",
   "id": "b7a8cb1c",
   "metadata": {},
   "source": [
    "## 🧠 Part 2: Getting Input from Players\n",
    "`input()` is a function that pauses the program and asks the user to type something.\n",
    "You can use it to ask for a player's name, age, or choices in the game."
   ]
  },
  {
   "cell_type": "code",
   "execution_count": null,
   "id": "622cf80e",
   "metadata": {},
   "outputs": [],
   "source": [
    "name = input(\"What's your hero name? \")\n",
    "print(\"Welcome to Gotham,\", name)"
   ]
  },
  {
   "cell_type": "markdown",
   "id": "e59ac09b",
   "metadata": {},
   "source": [
    "**📝 Try This:**\n",
    "- Ask the user for their favorite power.\n",
    "- Ask them how many coins they’ve collected (remember to convert to `int`)."
   ]
  },
  {
   "cell_type": "code",
   "execution_count": null,
   "id": "2da6da0a",
   "metadata": {},
   "outputs": [],
   "source": [
    "# Your turn"
   ]
  },
  {
   "cell_type": "markdown",
   "id": "1384a775",
   "metadata": {},
   "source": [
    "## 🌐 Part 3: Coordinates in 2D Games\n",
    "Games use a grid system called **coordinates** to place objects on the screen.\n",
    "\n",
    "- `(0, 0)` is the **top-left corner** of the screen.\n",
    "- X goes **right**, Y goes **down**.\n",
    "- This is different from math class, where Y goes up!\n"
   ]
  },
  {
   "cell_type": "code",
   "execution_count": null,
   "id": "d4ebc070",
   "metadata": {},
   "outputs": [],
   "source": [
    "x = 300\n",
    "y = 200\n",
    "print(f\"Your hero is at ({x}, {y}) on the screen.\")"
   ]
  },
  {
   "cell_type": "markdown",
   "id": "e37fa843",
   "metadata": {},
   "source": [
    "**📝 Challenge:**\n",
    "- Try changing the X and Y values.\n",
    "- Where do you think your hero would appear?\n",
    "- What happens when you use negative coordinates?"
   ]
  },
  {
   "cell_type": "code",
   "execution_count": null,
   "id": "79363aa2",
   "metadata": {},
   "outputs": [],
   "source": [
    "# Experiment here"
   ]
  },
  {
   "cell_type": "markdown",
   "id": "dbc8ec81",
   "metadata": {},
   "source": [
    "## 🖥️ Part 4: Setting Up the Game Window\n",
    "Now let’s build our first real step of the capstone project — the game screen!\n",
    "\n",
    "**Pygame** is a library that lets us build 2D games using Python.\n",
    "\n",
    "Here’s how we create and display the screen:"
   ]
  },
  {
   "cell_type": "code",
   "execution_count": null,
   "id": "d237e559",
   "metadata": {},
   "outputs": [],
   "source": [
    "import pygame\n",
    "pygame.init()\n",
    "\n",
    "SCREEN_WIDTH = 800\n",
    "SCREEN_HEIGHT = 600\n",
    "screen = pygame.display.set_mode((SCREEN_WIDTH, SCREEN_HEIGHT))\n",
    "pygame.display.set_caption(\"Batman Collector\")\n",
    "\n",
    "# Fill background with black\n",
    "screen.fill((0, 0, 0))\n",
    "pygame.display.flip()\n",
    "\n",
    "# Pause to view it\n",
    "pygame.time.wait(2000)\n",
    "pygame.quit()"
   ]
  },
  {
   "cell_type": "markdown",
   "id": "7e259246",
   "metadata": {},
   "source": [
    "**📝 Explore:**\n",
    "- Change the screen background to purple (hint: RGB = 128, 0, 128)\n",
    "- Increase the screen size to 1024x768"
   ]
  },
  {
   "cell_type": "code",
   "execution_count": null,
   "id": "9361ce5c",
   "metadata": {},
   "outputs": [],
   "source": [
    "# Try it here"
   ]
  },
  {
   "cell_type": "markdown",
   "id": "fdbe6a4e",
   "metadata": {},
   "source": [
    "## 🧩 Capstone Game Snippet: Screen Setup\n",
    "Copy this into your final `batman_collector.py` file.\n",
    "This is the real starting code for your game engine."
   ]
  },
  {
   "cell_type": "code",
   "execution_count": null,
   "id": "4668c1f0",
   "metadata": {},
   "outputs": [],
   "source": [
    "import pygame\n",
    "pygame.init()\n",
    "\n",
    "SCREEN_WIDTH = 800\n",
    "SCREEN_HEIGHT = 600\n",
    "screen = pygame.display.set_mode((SCREEN_WIDTH, SCREEN_HEIGHT))\n",
    "pygame.display.set_caption(\"Batman Collector Game\")\n",
    "clock = pygame.time.Clock()"
   ]
  }
 ],
 "metadata": {},
 "nbformat": 4,
 "nbformat_minor": 5
}
