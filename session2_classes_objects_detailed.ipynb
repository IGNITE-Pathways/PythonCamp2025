{
 "cells": [
  {
   "cell_type": "markdown",
   "id": "2db14e66",
   "metadata": {},
   "source": [
    "# 🧠 Session 2: Classes & Game Objects\n",
    "\n",
    "Today we're diving into **Object-Oriented Programming (OOP)** — one of the most important concepts in Python.\n",
    "\n",
    "We'll also begin building two major pieces of our capstone project: the **Player** and **Car** objects.\n",
    "\n",
    "**By the end of this session, you will:**\n",
    "- Understand classes, objects, attributes, and methods\n",
    "- Build your own classes from scratch (not just for the game!)\n",
    "- Use Pygame to draw and move game characters on the screen\n",
    "- Integrate your first class into the Batman Collector game!\n",
    "\n",
    "---"
   ]
  },
  {
   "cell_type": "markdown",
   "id": "861b5fe1",
   "metadata": {},
   "source": [
    "## 🧩 Part 1: What is a Class?\n",
    "A **class** is like a blueprint for creating objects. Think of it as a cookie-cutter, and the cookies are your actual objects.\n",
    "\n",
    "**Key terms:**\n",
    "- `__init__`: This is the constructor method that runs when you create an object.\n",
    "- `self`: Refers to the instance of the class you're working on.\n",
    "- **Attribute**: A variable stored inside an object.\n",
    "- **Method**: A function that belongs to an object."
   ]
  },
  {
   "cell_type": "code",
   "execution_count": null,
   "id": "9dbf6995",
   "metadata": {},
   "outputs": [],
   "source": [
    "class Superhero:\n",
    "    def __init__(self, name, power):\n",
    "        self.name = name\n",
    "        self.power = power\n",
    "\n",
    "    def introduce(self):\n",
    "        print(f\"I am {self.name} and I can {self.power}!\")\n",
    "\n",
    "# Create an object\n",
    "hero1 = Superhero(\"Batman\", \"fight crime\")\n",
    "hero1.introduce()"
   ]
  },
  {
   "cell_type": "markdown",
   "id": "a7551ed5",
   "metadata": {},
   "source": [
    "**📝 Try This:**\n",
    "- Make a `Gadget` class with attributes `name` and `function`\n",
    "- Add a method that prints what the gadget does\n",
    "- Create 2 gadgets and test them"
   ]
  },
  {
   "cell_type": "code",
   "execution_count": null,
   "id": "3146a6fd",
   "metadata": {},
   "outputs": [],
   "source": [
    "# Your code here"
   ]
  },
  {
   "cell_type": "markdown",
   "id": "e83a304e",
   "metadata": {},
   "source": [
    "## 🎮 Part 2: Building the Player Object in the Game\n",
    "Now let's create the Player class that represents Batman in our game. This class will hold his image, position, and how he moves."
   ]
  },
  {
   "cell_type": "code",
   "execution_count": null,
   "id": "c937fd36",
   "metadata": {},
   "outputs": [],
   "source": [
    "import pygame\n",
    "class Player(pygame.sprite.Sprite):\n",
    "    def __init__(self):\n",
    "        super().__init__()\n",
    "        self.image = pygame.image.load(\"batman.png\")\n",
    "        self.rect = self.image.get_rect()\n",
    "        self.rect.center = (400, 500)\n",
    "\n",
    "    def update(self):\n",
    "        keys = pygame.key.get_pressed()\n",
    "        if keys[pygame.K_LEFT]:\n",
    "            self.rect.x -= 5\n",
    "        if keys[pygame.K_RIGHT]:\n",
    "            self.rect.x += 5"
   ]
  },
  {
   "cell_type": "markdown",
   "id": "a01a9dd5",
   "metadata": {},
   "source": [
    "**📝 Practice:**\n",
    "- Add a new method `reset_position()` that moves Batman back to the center.\n",
    "- Add vertical movement (up/down) to the `update()` method."
   ]
  },
  {
   "cell_type": "code",
   "execution_count": null,
   "id": "3ee94417",
   "metadata": {},
   "outputs": [],
   "source": [
    "# Your code here"
   ]
  },
  {
   "cell_type": "markdown",
   "id": "2cd48e33",
   "metadata": {},
   "source": [
    "## 🚗 Part 3: Add Moving Objects - The Car!\n",
    "Now let’s make a simple class for a moving car that can appear and drive across the screen.\n",
    "This helps us learn how Pygame draws objects and updates them every frame."
   ]
  },
  {
   "cell_type": "code",
   "execution_count": null,
   "id": "c60247f0",
   "metadata": {},
   "outputs": [],
   "source": [
    "class Car(pygame.sprite.Sprite):\n",
    "    def __init__(self, x, y):\n",
    "        super().__init__()\n",
    "        self.image = pygame.Surface((60, 30))\n",
    "        self.image.fill((255, 0, 0))  # red car\n",
    "        self.rect = self.image.get_rect()\n",
    "        self.rect.topleft = (x, y)\n",
    "\n",
    "    def update(self):\n",
    "        self.rect.x += 2"
   ]
  },
  {
   "cell_type": "markdown",
   "id": "03a007a7",
   "metadata": {},
   "source": [
    "**📝 Try This:**\n",
    "- Make the car go faster\n",
    "- Make it wrap around to the left if it goes off screen"
   ]
  },
  {
   "cell_type": "code",
   "execution_count": null,
   "id": "c7810147",
   "metadata": {},
   "outputs": [],
   "source": [
    "# Your code here"
   ]
  },
  {
   "cell_type": "markdown",
   "id": "c2625e07",
   "metadata": {},
   "source": [
    "## 🔁 Part 4: Game Loop Basics with Sprites\n",
    "Here’s how we bring everything together using a basic game loop and sprite group system. This controls updates and screen redraws."
   ]
  },
  {
   "cell_type": "code",
   "execution_count": null,
   "id": "2c059a11",
   "metadata": {},
   "outputs": [],
   "source": [
    "pygame.init()\n",
    "screen = pygame.display.set_mode((800, 600))\n",
    "clock = pygame.time.Clock()\n",
    "\n",
    "player = Player()\n",
    "car = Car(0, 100)\n",
    "all_sprites = pygame.sprite.Group()\n",
    "all_sprites.add(player)\n",
    "all_sprites.add(car)\n",
    "\n",
    "running = True\n",
    "while running:\n",
    "    for event in pygame.event.get():\n",
    "        if event.type == pygame.QUIT:\n",
    "            running = False\n",
    "\n",
    "    all_sprites.update()\n",
    "    screen.fill((0, 0, 0))\n",
    "    all_sprites.draw(screen)\n",
    "    pygame.display.flip()\n",
    "    clock.tick(60)\n",
    "\n",
    "pygame.quit()"
   ]
  },
  {
   "cell_type": "markdown",
   "id": "1958051d",
   "metadata": {},
   "source": [
    "## 🧩 Capstone Game Snippet: Player and Car Classes\n",
    "Here’s the final code you’ll paste into your `batman_collector.py` file."
   ]
  },
  {
   "cell_type": "code",
   "execution_count": null,
   "id": "25bff109",
   "metadata": {},
   "outputs": [],
   "source": [
    "class Player(pygame.sprite.Sprite):\n",
    "    def __init__(self):\n",
    "        super().__init__()\n",
    "        self.image = pygame.image.load(\"batman.png\")\n",
    "        self.rect = self.image.get_rect()\n",
    "        self.rect.center = (400, 500)\n",
    "\n",
    "    def update(self):\n",
    "        keys = pygame.key.get_pressed()\n",
    "        if keys[pygame.K_LEFT]:\n",
    "            self.rect.x -= 5\n",
    "        if keys[pygame.K_RIGHT]:\n",
    "            self.rect.x += 5\n",
    "\n",
    "class Car(pygame.sprite.Sprite):\n",
    "    def __init__(self, x, y):\n",
    "        super().__init__()\n",
    "        self.image = pygame.Surface((60, 30))\n",
    "        self.image.fill((255, 0, 0))\n",
    "        self.rect = self.image.get_rect()\n",
    "        self.rect.topleft = (x, y)\n",
    "\n",
    "    def update(self):\n",
    "        self.rect.x += 2"
   ]
  }
 ],
 "metadata": {},
 "nbformat": 4,
 "nbformat_minor": 5
}
