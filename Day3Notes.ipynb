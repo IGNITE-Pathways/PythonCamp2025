{
 "cells": [
  {
   "cell_type": "markdown",
   "id": "d981c8b8",
   "metadata": {},
   "source": [
    "# 🎯 Session 3: Conditionals, Logic & Randomness\n",
    "\n",
    "In this session, we’ll explore how to control the flow of your Python programs with conditionals and logic, and how to add randomness — a key ingredient in fun games!\n",
    "\n",
    "**By the end of this session, you will:**\n",
    "- Master `if`, `elif`, and `else` statements\n",
    "- Use comparison and logical operators\n",
    "- Learn to generate random behavior using Python's `random` module\n",
    "- Build randomness into your capstone game (e.g., coin spawns)\n",
    "\n",
    "---"
   ]
  },
  {
   "cell_type": "markdown",
   "id": "cd2b680e",
   "metadata": {},
   "source": [
    "## 🔎 Part 1: Conditional Logic in Python\n",
    "**Conditionals** let you make decisions in your code. This is done using `if`, `elif`, and `else`.\n",
    "\n",
    "**Comparison Operators:**\n",
    "- `==` equals\n",
    "- `!=` not equal\n",
    "- `>` greater than, `<` less than\n",
    "- `>=`, `<=`\n",
    "\n",
    "**Logical Operators:**\n",
    "- `and`, `or`, `not`\n",
    "\n",
    "Let's look at a simple example:"
   ]
  },
  {
   "cell_type": "code",
   "execution_count": null,
   "id": "e6b96871",
   "metadata": {},
   "outputs": [],
   "source": [
    "score = 85\n",
    "if score >= 90:\n",
    "    print(\"A grade\")\n",
    "elif score >= 80:\n",
    "    print(\"B grade\")\n",
    "else:\n",
    "    print(\"Needs improvement\")"
   ]
  },
  {
   "cell_type": "markdown",
   "id": "ab94d8b7",
   "metadata": {},
   "source": [
    "**📝 Practice:**\n",
    "1. Ask the user to enter their age. If they are 18 or older, print 'You can vote!'. Else print 'Not eligible yet.'\n",
    "2. Ask for a number. If it's divisible by both 3 and 5, print 'FizzBuzz'."
   ]
  },
  {
   "cell_type": "code",
   "execution_count": null,
   "id": "56f8a446",
   "metadata": {},
   "outputs": [],
   "source": [
    "# Your code here"
   ]
  },
  {
   "cell_type": "markdown",
   "id": "027ee839",
   "metadata": {},
   "source": [
    "## 🎲 Part 2: Using Randomness\n",
    "Games become fun when there’s unpredictability! Python has a built-in module called `random` for this.\n",
    "\n",
    "```python\n",
    "import random\n",
    "random.randint(1, 10)  # Random number from 1 to 10\n",
    "random.choice(['apple', 'banana', 'cherry'])\n",
    "```\n",
    "\n",
    "**Example:**"
   ]
  },
  {
   "cell_type": "code",
   "execution_count": null,
   "id": "bfaf862d",
   "metadata": {},
   "outputs": [],
   "source": [
    "import random\n",
    "dice_roll = random.randint(1, 6)\n",
    "print(f\"🎲 You rolled a {dice_roll}!\")"
   ]
  },
  {
   "cell_type": "markdown",
   "id": "5a3953fa",
   "metadata": {},
   "source": [
    "**📝 Practice:**\n",
    "1. Generate a random number between 1 and 100 and ask the user to guess it.\n",
    "2. Randomly pick a superhero name from a list."
   ]
  },
  {
   "cell_type": "code",
   "execution_count": null,
   "id": "b5529780",
   "metadata": {},
   "outputs": [],
   "source": [
    "# Your code here"
   ]
  },
  {
   "cell_type": "markdown",
   "id": "a2aa3d78",
   "metadata": {},
   "source": [
    "## 💡 Part 3: Game Logic with Conditionals\n",
    "Let’s use what we’ve learned to make our game smarter!\n",
    "- Coins will spawn in random locations\n",
    "- We'll keep track of when Batman collects a coin (using logic)\n",
    "- Let’s get started!"
   ]
  },
  {
   "cell_type": "code",
   "execution_count": null,
   "id": "3e0aa946",
   "metadata": {},
   "outputs": [],
   "source": [
    "import pygame, random\n",
    "\n",
    "class Coin(pygame.sprite.Sprite):\n",
    "    def __init__(self):\n",
    "        super().__init__()\n",
    "        self.image = pygame.Surface((20, 20))\n",
    "        self.image.fill((255, 215, 0))  # gold color\n",
    "        self.rect = self.image.get_rect()\n",
    "        self.rect.x = random.randint(0, 780)\n",
    "        self.rect.y = random.randint(0, 300)"
   ]
  },
  {
   "cell_type": "markdown",
   "id": "985e8a32",
   "metadata": {},
   "source": [
    "**📝 Practice:**\n",
    "- Add more randomness: can you randomize the speed of a car?\n",
    "- Spawn multiple coins with random positions"
   ]
  },
  {
   "cell_type": "code",
   "execution_count": null,
   "id": "f387f7e8",
   "metadata": {},
   "outputs": [],
   "source": [
    "# Your code here"
   ]
  },
  {
   "cell_type": "markdown",
   "id": "f683665d",
   "metadata": {},
   "source": [
    "## 🧩 Capstone Game Snippet: Coin Class\n",
    "Here’s the real code from your Batman Collector project — paste this directly into your file."
   ]
  },
  {
   "cell_type": "code",
   "execution_count": null,
   "id": "e939bd4a",
   "metadata": {},
   "outputs": [],
   "source": [
    "class Coin(pygame.sprite.Sprite):\n",
    "    def __init__(self):\n",
    "        super().__init__()\n",
    "        self.image = pygame.Surface((20, 20))\n",
    "        self.image.fill((255, 215, 0))\n",
    "        self.rect = self.image.get_rect()\n",
    "        self.rect.x = random.randint(0, 780)\n",
    "        self.rect.y = random.randint(0, 300)"
   ]
  }
 ],
 "metadata": {},
 "nbformat": 4,
 "nbformat_minor": 5
}
