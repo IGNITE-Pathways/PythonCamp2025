{
 "cells": [
  {
   "cell_type": "markdown",
   "id": "1ba0a9ec",
   "metadata": {},
   "source": [
    "# ⏳ Session 4: Loops, Timers, and Game Flow\n",
    "\n",
    "Welcome to Session 4! Today we will learn how to repeat actions using loops and control time in your game.\n",
    "\n",
    "**By the end of this session, you will:**\n",
    "- Master `for` and `while` loops\n",
    "- Use control flow with `break` and `continue`\n",
    "- Track time using Pygame's `get_ticks()` and implement countdown timers\n",
    "- Add a timer to your Batman Collector capstone game\n",
    "\n",
    "---"
   ]
  },
  {
   "cell_type": "markdown",
   "id": "bdb3bb1e",
   "metadata": {},
   "source": [
    "## 🔁 Part 1: For Loops\n",
    "`for` loops are used to iterate over sequences (like lists or ranges).\n",
    "\n",
    "**Example:**\n",
    "```python\n",
    "for i in range(5):\n",
    "    print(i)\n",
    "```\n",
    "This prints numbers from 0 to 4."
   ]
  },
  {
   "cell_type": "code",
   "execution_count": null,
   "id": "4d8494ae",
   "metadata": {},
   "outputs": [],
   "source": [
    "for i in range(5):\n",
    "    print(f\"Round {i+1}: Batman is watching.\")"
   ]
  },
  {
   "cell_type": "markdown",
   "id": "468de903",
   "metadata": {},
   "source": [
    "**📝 Practice:**\n",
    "Print your name 3 times using a `for` loop.\n",
    "Print all even numbers from 2 to 10."
   ]
  },
  {
   "cell_type": "code",
   "execution_count": null,
   "id": "3d40e5a0",
   "metadata": {},
   "outputs": [],
   "source": [
    "# Your code here"
   ]
  },
  {
   "cell_type": "markdown",
   "id": "09082035",
   "metadata": {},
   "source": [
    "## 🔄 Part 2: While Loops and Flow Control\n",
    "`while` loops run until a condition becomes False.\n",
    "\n",
    "```python\n",
    "x = 0\n",
    "while x < 5:\n",
    "    print(x)\n",
    "    x += 1\n",
    "```\n",
    "**Use `break`** to exit a loop early, and `continue` to skip to the next iteration."
   ]
  },
  {
   "cell_type": "code",
   "execution_count": null,
   "id": "18b1bca3",
   "metadata": {},
   "outputs": [],
   "source": [
    "count = 0\n",
    "while True:\n",
    "    print(f\"Count: {count}\")\n",
    "    count += 1\n",
    "    if count >= 3:\n",
    "        break"
   ]
  },
  {
   "cell_type": "markdown",
   "id": "5390d38f",
   "metadata": {},
   "source": [
    "**📝 Practice:**\n",
    "Create a loop that counts down from 5 to 1 using `while`.\n",
    "Skip printing the number 3 using `continue`."
   ]
  },
  {
   "cell_type": "markdown",
   "id": "7ff8ceb0",
   "metadata": {},
   "source": [
    "## 🧠 Important Vocabulary\n",
    "\n",
    "- **Iteration**: One complete run of a loop body. For example, printing once in a `for` loop is one iteration.\n",
    "- **Loop**: A programming construct that repeats a block of code multiple times.\n",
    "- **Condition**: A logical expression that evaluates to True or False.\n",
    "- **Break**: A command to exit the loop entirely.\n",
    "- **Continue**: A command that skips to the next iteration of the loop."
   ]
  },
  {
   "cell_type": "code",
   "execution_count": null,
   "id": "82500c5d",
   "metadata": {},
   "outputs": [],
   "source": [
    "# Your code here"
   ]
  },
  {
   "cell_type": "markdown",
   "id": "274da79e",
   "metadata": {},
   "source": [
    "## ⏱️ Part 3: Game Timers with Pygame\n",
    "Pygame allows us to track time using `pygame.time.get_ticks()` — it returns milliseconds since start.\n",
    "\n",
    "You can use it to build a countdown timer:"
   ]
  },
  {
   "cell_type": "code",
   "execution_count": null,
   "id": "faf8fc20",
   "metadata": {},
   "outputs": [],
   "source": [
    "import pygame\n",
    "pygame.init()\n",
    "\n",
    "start_time = pygame.time.get_ticks()\n",
    "running = True\n",
    "while running:\n",
    "    current_time = pygame.time.get_ticks()\n",
    "    elapsed_time = (current_time - start_time) // 1000  # convert to seconds\n",
    "    print(f\"Time elapsed: {elapsed_time} seconds\")\n",
    "    if elapsed_time >= 5:\n",
    "        running = False\n",
    "    pygame.time.delay(1000)"
   ]
  },
  {
   "cell_type": "markdown",
   "id": "a7911523",
   "metadata": {},
   "source": [
    "**📝 Practice:**\n",
    "- Use `get_ticks()` to create a 10-second timer.\n",
    "- Try modifying the delay or using `clock.tick()`."
   ]
  },
  {
   "cell_type": "code",
   "execution_count": null,
   "id": "9b45328b",
   "metadata": {},
   "outputs": [],
   "source": [
    "# Your code here"
   ]
  },
  {
   "cell_type": "markdown",
   "id": "f7a7cefd",
   "metadata": {},
   "source": [
    "## 🧩 Capstone Game Snippet: Timer Setup\n",
    "Here's the code that adds a timer to your game logic."
   ]
  },
  {
   "cell_type": "code",
   "execution_count": null,
   "id": "eeed7138",
   "metadata": {},
   "outputs": [],
   "source": [
    "start_ticks = pygame.time.get_ticks()\n",
    "total_time = 60  # seconds\n",
    "\n",
    "while running:\n",
    "    seconds = (pygame.time.get_ticks() - start_ticks) // 1000\n",
    "    time_left = total_time - seconds\n",
    "    if time_left <= 0:\n",
    "        running = False\n",
    "    # rest of game logic here"
   ]
  }
 ],
 "metadata": {},
 "nbformat": 4,
 "nbformat_minor": 5
}
