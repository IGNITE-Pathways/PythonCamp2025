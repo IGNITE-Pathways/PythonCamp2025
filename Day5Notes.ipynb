{
 "cells": [
  {
   "cell_type": "markdown",
   "id": "0ae616ca",
   "metadata": {},
   "source": [
    "# 🧱 Session 5: Lists, Functions, and Collision Detection\n",
    "\n",
    "Today we will learn how to group data using lists, write reusable blocks of code with functions, and detect collisions — all of which are essential for games!\n",
    "\n",
    "**By the end of this session, you will:**\n",
    "- Use lists to store multiple items\n",
    "- Write and call functions\n",
    "- Detect object collisions using bounding boxes and Pygame’s `colliderect()`\n",
    "- Build a wall system using a 2D list in your capstone game\n",
    "\n",
    "---"
   ]
  },
  {
   "cell_type": "markdown",
   "id": "e85406be",
   "metadata": {},
   "source": [
    "## 📚 Part 1: Working with Lists\n",
    "A **list** is a data structure that holds an ordered collection of items.\n",
    "\n",
    "**Examples:**"
   ]
  },
  {
   "cell_type": "code",
   "execution_count": null,
   "id": "50375a7e",
   "metadata": {},
   "outputs": [],
   "source": [
    "fruits = ['apple', 'banana', 'cherry']\n",
    "print(fruits[1])  # banana\n",
    "fruits.append('orange')\n",
    "print(fruits)\n",
    "fruits.pop()"
   ]
  },
  {
   "cell_type": "markdown",
   "id": "acdf4a0f",
   "metadata": {},
   "source": [
    "**📝 Practice:**\n",
    "1. Create a list of your 3 favorite superheroes.\n",
    "2. Add one more, then remove the second one."
   ]
  },
  {
   "cell_type": "code",
   "execution_count": null,
   "id": "56066929",
   "metadata": {},
   "outputs": [],
   "source": [
    "# Your code here"
   ]
  },
  {
   "cell_type": "markdown",
   "id": "e9328a69",
   "metadata": {},
   "source": [
    "## 🧠 Part 2: Functions\n",
    "A **function** is a reusable block of code that performs a specific task.\n",
    "\n",
    "**Syntax:**\n",
    "```python\n",
    "def greet(name):\n",
    "    print(f\"Hello, {name}!\")\n",
    "```\n",
    "Then you call it with: `greet(\"Batman\")`"
   ]
  },
  {
   "cell_type": "code",
   "execution_count": null,
   "id": "1879c6d0",
   "metadata": {},
   "outputs": [],
   "source": [
    "def square(num):\n",
    "    return num * num\n",
    "\n",
    "print(square(4))"
   ]
  },
  {
   "cell_type": "markdown",
   "id": "a9e85c7d",
   "metadata": {},
   "source": [
    "**📝 Practice:**\n",
    "1. Write a function `shout(text)` that prints the text in uppercase.\n",
    "2. Write a function that adds two numbers and returns the sum."
   ]
  },
  {
   "cell_type": "code",
   "execution_count": null,
   "id": "fc928854",
   "metadata": {},
   "outputs": [],
   "source": [
    "# Your code here"
   ]
  },
  {
   "cell_type": "markdown",
   "id": "f58b8e82",
   "metadata": {},
   "source": [
    "## 🧠 Important Vocabulary\n",
    "\n",
    "- **List**: A collection that stores multiple values.\n",
    "- **Index**: The position of an item in a list, starting from 0.\n",
    "- **Function**: A named block of code that can be reused.\n",
    "- **Parameter**: A variable in a function definition.\n",
    "- **Return**: Sends back a value from a function.\n",
    "- **Bounding Box**: A rectangle that wraps around an object, used for detecting overlaps in games."
   ]
  },
  {
   "cell_type": "markdown",
   "id": "3bb5246e",
   "metadata": {},
   "source": [
    "## 💥 Part 3: Collision Detection with `colliderect()`\n",
    "Pygame provides a way to check if two rectangles overlap.\n",
    "\n",
    "```python\n",
    "if player.rect.colliderect(wall.rect):\n",
    "    print(\"Collision!\")\n",
    "```"
   ]
  },
  {
   "cell_type": "code",
   "execution_count": null,
   "id": "89eeb569",
   "metadata": {},
   "outputs": [],
   "source": [
    "import pygame\n",
    "pygame.init()\n",
    "\n",
    "player = pygame.Rect(100, 100, 50, 50)\n",
    "wall = pygame.Rect(120, 100, 50, 50)\n",
    "\n",
    "if player.colliderect(wall):\n",
    "    print(\"🚧 Oops! You hit a wall.\")"
   ]
  },
  {
   "cell_type": "markdown",
   "id": "e0fd0902",
   "metadata": {},
   "source": [
    "**📝 Practice:**\n",
    "1. Create two rectangles and check if they collide.\n",
    "2. Move one rectangle around using arrow keys and detect collision."
   ]
  },
  {
   "cell_type": "code",
   "execution_count": null,
   "id": "d72a6377",
   "metadata": {},
   "outputs": [],
   "source": [
    "# Your code here"
   ]
  },
  {
   "cell_type": "markdown",
   "id": "f7cde36f",
   "metadata": {},
   "source": [
    "## 🧩 Capstone Game Snippet: Wall Class with Collisions\n",
    "Add this code to your game to build walls using a 2D list and detect when Batman collides with them."
   ]
  },
  {
   "cell_type": "code",
   "execution_count": null,
   "id": "a303c557",
   "metadata": {},
   "outputs": [],
   "source": [
    "class Wall(pygame.sprite.Sprite):\n",
    "    def __init__(self, x, y):\n",
    "        super().__init__()\n",
    "        self.image = pygame.Surface((40, 40))\n",
    "        self.image.fill((139, 69, 19))\n",
    "        self.rect = self.image.get_rect()\n",
    "        self.rect.x = x\n",
    "        self.rect.y = y"
   ]
  }
 ],
 "metadata": {},
 "nbformat": 4,
 "nbformat_minor": 5
}
