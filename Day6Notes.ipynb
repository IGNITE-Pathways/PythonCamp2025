{
 "cells": [
  {
   "cell_type": "markdown",
   "id": "33297f12",
   "metadata": {},
   "source": [
    "# 🏁 Session 6: Built-ins, File I/O, and Final Game Polish\n",
    "\n",
    "This final session focuses on powerful built-in Python tools and how to save/load game data.\n",
    "\n",
    "**By the end of this session, you will:**\n",
    "- Use common built-in functions like `len()`, `range()`, and `sorted()`\n",
    "- Read/write files using Python and JSON\n",
    "- Polish your Batman Collector game with score saving and menus\n",
    "\n",
    "---"
   ]
  },
  {
   "cell_type": "markdown",
   "id": "8a46b3eb",
   "metadata": {},
   "source": [
    "## 🔧 Part 1: Python Built-ins\n",
    "Built-in functions are tools Python provides by default.\n",
    "\n",
    "**Examples:**"
   ]
  },
  {
   "cell_type": "code",
   "execution_count": null,
   "id": "f91cd947",
   "metadata": {},
   "outputs": [],
   "source": [
    "my_list = [3, 1, 4, 1, 5, 9]\n",
    "print(len(my_list))  # length of list\n",
    "print(sorted(my_list))  # sorted version\n",
    "for i in range(3):\n",
    "    print(f\"Iteration {i}\")"
   ]
  },
  {
   "cell_type": "markdown",
   "id": "910cceb0",
   "metadata": {},
   "source": [
    "**📝 Practice:**\n",
    "1. Use `len()` to count characters in your name.\n",
    "2. Use `sorted()` on a list of superhero names.\n",
    "3. Loop using `range()` from 5 to 10."
   ]
  },
  {
   "cell_type": "code",
   "execution_count": null,
   "id": "14c278b5",
   "metadata": {},
   "outputs": [],
   "source": [
    "# Your code here"
   ]
  },
  {
   "cell_type": "markdown",
   "id": "981915b9",
   "metadata": {},
   "source": [
    "## 💾 Part 2: File Input & Output with JSON\n",
    "You can save data to files using `open()` and load/save structured data with JSON.\n",
    "\n",
    "**Example:**"
   ]
  },
  {
   "cell_type": "code",
   "execution_count": null,
   "id": "0d7ae36a",
   "metadata": {},
   "outputs": [],
   "source": [
    "import json\n",
    "data = {\"score\": 150, \"player\": \"Batman\"}\n",
    "\n",
    "# Save\n",
    "with open(\"savefile.json\", \"w\") as f:\n",
    "    json.dump(data, f)\n",
    "\n",
    "# Load\n",
    "with open(\"savefile.json\", \"r\") as f:\n",
    "    loaded = json.load(f)\n",
    "print(loaded)"
   ]
  },
  {
   "cell_type": "markdown",
   "id": "bd4521a2",
   "metadata": {},
   "source": [
    "**📝 Practice:**\n",
    "1. Create a dictionary with a name and score.\n",
    "2. Save it to a file.\n",
    "3. Read it back and print the result."
   ]
  },
  {
   "cell_type": "code",
   "execution_count": null,
   "id": "269cff0c",
   "metadata": {},
   "outputs": [],
   "source": [
    "# Your code here"
   ]
  },
  {
   "cell_type": "markdown",
   "id": "eb0be82d",
   "metadata": {},
   "source": [
    "## 🧠 Important Vocabulary\n",
    "\n",
    "- **Built-in Function**: A function available in Python by default.\n",
    "- **JSON**: A format for storing data (JavaScript Object Notation).\n",
    "- **Serialization**: Converting data into a format that can be stored (e.g., JSON).\n",
    "- **File I/O**: Reading from or writing to files."
   ]
  },
  {
   "cell_type": "markdown",
   "id": "dbfd5853",
   "metadata": {},
   "source": [
    "## 🎮 Part 3: Game Polish - Score Saving & Menu\n",
    "You can use JSON to store high scores, add menus, or create an end screen.\n",
    "\n",
    "Here’s how to save the final score in your Batman Collector game:"
   ]
  },
  {
   "cell_type": "code",
   "execution_count": null,
   "id": "31b3a287",
   "metadata": {},
   "outputs": [],
   "source": [
    "# At game end:\n",
    "data = {\"score\": score, \"player\": \"Batman\"}\n",
    "with open(\"score.json\", \"w\") as f:\n",
    "    json.dump(data, f)"
   ]
  },
  {
   "cell_type": "markdown",
   "id": "fb7d7091",
   "metadata": {},
   "source": [
    "## 🧩 Capstone Game Snippet: Final Touches\n",
    "Below is the `GameOver` class or final polish you may add to complete your Batman Collector project:"
   ]
  },
  {
   "cell_type": "code",
   "execution_count": null,
   "id": "a8fb59e6",
   "metadata": {},
   "outputs": [],
   "source": [
    "import pygame\n",
    "\n",
    "class GameOver:\n",
    "    def __init__(self, screen):\n",
    "        self.font = pygame.font.SysFont(None, 60)\n",
    "        self.screen = screen\n",
    "\n",
    "    def show(self, score):\n",
    "        text = self.font.render(f\"Game Over! Score: {score}\", True, (255, 0, 0))\n",
    "        self.screen.blit(text, (150, 300))\n",
    "        pygame.display.flip()\n",
    "        pygame.time.wait(3000)"
   ]
  }
 ],
 "metadata": {
  "language_info": {
   "name": "python"
  }
 },
 "nbformat": 4,
 "nbformat_minor": 5
}
